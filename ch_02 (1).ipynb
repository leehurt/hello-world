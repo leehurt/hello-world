{
 "cells": [
  {
   "cell_type": "markdown",
   "id": "38bb4c8d-6393-4512-9be3-87dc08a337fd",
   "metadata": {},
   "source": [
    "# [CHAPTER 02] 파이썬 핵심 문법"
   ]
  },
  {
   "cell_type": "markdown",
   "id": "7072422b-6272-45b2-af7e-0afd7e374930",
   "metadata": {},
   "source": [
    "######\n",
    "# 2.3 연산자\n",
    "######"
   ]
  },
  {
   "cell_type": "markdown",
   "id": "f53712db-bc24-431b-816c-437a500afe4d",
   "metadata": {},
   "source": [
    "######\n",
    "## ■ 산술연산자\n",
    "######"
   ]
  },
  {
   "cell_type": "code",
   "execution_count": 4,
   "id": "1647e16e-8ee5-4c1f-8dd5-a8e021ccdcd7",
   "metadata": {},
   "outputs": [],
   "source": [
    "x = 10\n",
    "y = 20"
   ]
  },
  {
   "cell_type": "code",
   "execution_count": 5,
   "id": "1d1d1b71-6b47-4bde-9415-1f5b7154ef04",
   "metadata": {},
   "outputs": [
    {
     "name": "stdout",
     "output_type": "stream",
     "text": [
      "30\n"
     ]
    }
   ],
   "source": [
    "# 더하기\n",
    "print(x + y)"
   ]
  },
  {
   "cell_type": "code",
   "execution_count": 6,
   "id": "c91d6780-eceb-48ae-902f-341d76a70954",
   "metadata": {},
   "outputs": [
    {
     "name": "stdout",
     "output_type": "stream",
     "text": [
      "-10\n"
     ]
    }
   ],
   "source": [
    "# 빼기\n",
    "print(x - y)"
   ]
  },
  {
   "cell_type": "code",
   "execution_count": 7,
   "id": "697e1949-89ae-4ae4-b744-267b91e976e0",
   "metadata": {},
   "outputs": [
    {
     "name": "stdout",
     "output_type": "stream",
     "text": [
      "200\n"
     ]
    }
   ],
   "source": [
    "# 곱하기\n",
    "print(x * y)"
   ]
  },
  {
   "cell_type": "code",
   "execution_count": 8,
   "id": "a79741e2-2b70-498e-8c52-27e2d187a49e",
   "metadata": {},
   "outputs": [
    {
     "name": "stdout",
     "output_type": "stream",
     "text": [
      "0.5\n"
     ]
    }
   ],
   "source": [
    "# 나누기\n",
    "print(x / y)"
   ]
  },
  {
   "cell_type": "code",
   "execution_count": 9,
   "id": "3c271364-4b74-49df-9f86-9c5dc00a9e08",
   "metadata": {},
   "outputs": [
    {
     "name": "stdout",
     "output_type": "stream",
     "text": [
      "10\n"
     ]
    }
   ],
   "source": [
    "# 나머지\n",
    "print(x % y)"
   ]
  },
  {
   "cell_type": "code",
   "execution_count": 10,
   "id": "64c91e7a-d6b2-4593-b222-cb5e586da252",
   "metadata": {},
   "outputs": [
    {
     "name": "stdout",
     "output_type": "stream",
     "text": [
      "100\n"
     ]
    }
   ],
   "source": [
    "# 거듭제곱\n",
    "print(x ** 2)"
   ]
  },
  {
   "cell_type": "code",
   "execution_count": 12,
   "id": "ea7325d7-7534-4aaf-bc3d-ae87e2c56377",
   "metadata": {},
   "outputs": [
    {
     "name": "stdout",
     "output_type": "stream",
     "text": [
      "0\n"
     ]
    }
   ],
   "source": [
    "# 몫\n",
    "print(x // y)"
   ]
  },
  {
   "cell_type": "markdown",
   "id": "82947186-5f46-415f-b4d2-e1b9cdb275e4",
   "metadata": {},
   "source": [
    "######\n",
    "## ■ 문자열 연산자\n",
    "######"
   ]
  },
  {
   "cell_type": "code",
   "execution_count": 13,
   "id": "97c54628-028c-45c4-9b42-34f91988ba51",
   "metadata": {},
   "outputs": [
    {
     "data": {
      "text/plain": [
       "'파이썬짱!'"
      ]
     },
     "execution_count": 13,
     "metadata": {},
     "output_type": "execute_result"
    }
   ],
   "source": [
    "# 문자열 더하기\n",
    "start = \"파이썬\"\n",
    "end = \"짱!\"\n",
    "start + end"
   ]
  },
  {
   "cell_type": "code",
   "execution_count": 14,
   "id": "7029d035-3396-4b7c-9c99-ae3aa1e2cf9c",
   "metadata": {},
   "outputs": [
    {
     "data": {
      "text/plain": [
       "'파이썬파이썬파이썬파이썬파이썬'"
      ]
     },
     "execution_count": 14,
     "metadata": {},
     "output_type": "execute_result"
    }
   ],
   "source": [
    "#문자열 곱하기\n",
    "word = \"파이썬\"\n",
    "word * 5"
   ]
  },
  {
   "cell_type": "markdown",
   "id": "595d018f-b372-4e51-a3a7-093ab8f6dfed",
   "metadata": {},
   "source": [
    "######\n",
    "# 2.4 표준 입출력\n",
    "######"
   ]
  },
  {
   "cell_type": "markdown",
   "id": "ee5fb09d-3854-4372-83f8-413847262e2f",
   "metadata": {},
   "source": [
    "######\n",
    "## ■ 표준 입력\n",
    "######"
   ]
  },
  {
   "cell_type": "code",
   "execution_count": 1,
   "id": "7112a125-8677-4fcb-8b89-f0be10bf900e",
   "metadata": {},
   "outputs": [
    {
     "name": "stdin",
     "output_type": "stream",
     "text": [
      "이름 입력:  Hyosik\n"
     ]
    },
    {
     "name": "stdout",
     "output_type": "stream",
     "text": [
      "Hyosik\n"
     ]
    }
   ],
   "source": [
    "# 문자열로 입력\n",
    "name = input(\"이름 입력: \")\n",
    "print(name)"
   ]
  },
  {
   "cell_type": "code",
   "execution_count": 18,
   "id": "341fd23d-31e6-47f0-b229-4608368f8460",
   "metadata": {},
   "outputs": [
    {
     "name": "stdin",
     "output_type": "stream",
     "text": [
      "숫자1 입력:  10\n",
      "숫자2 입력:  30\n"
     ]
    },
    {
     "name": "stdout",
     "output_type": "stream",
     "text": [
      "40\n"
     ]
    }
   ],
   "source": [
    "# 정수형으로 입력\n",
    "x = int(input(\"숫자1 입력: \"))\n",
    "y = int(input(\"숫자2 입력: \"))\n",
    "print(x + y)"
   ]
  },
  {
   "cell_type": "code",
   "execution_count": 19,
   "id": "0123ef0c-a403-46d0-920e-fffa1c4d9a4d",
   "metadata": {},
   "outputs": [
    {
     "name": "stdin",
     "output_type": "stream",
     "text": [
      "숫자 입력:  3.2\n"
     ]
    },
    {
     "name": "stdout",
     "output_type": "stream",
     "text": [
      "3.2\n"
     ]
    }
   ],
   "source": [
    "# 실수형으로 입력\n",
    "z = float(input(\"숫자 입력: \"))\n",
    "print(z)"
   ]
  },
  {
   "cell_type": "markdown",
   "id": "aaaff026-a557-4d60-99ab-c3ed89e54293",
   "metadata": {},
   "source": [
    "######\n",
    "## ■ 표준 출력\n",
    "######"
   ]
  },
  {
   "cell_type": "code",
   "execution_count": 21,
   "id": "b6eb7ebb-37e8-4f70-86ac-f22657842446",
   "metadata": {},
   "outputs": [
    {
     "name": "stdout",
     "output_type": "stream",
     "text": [
      "파이썬\n",
      "짱\n"
     ]
    }
   ],
   "source": [
    "# 줄 바꿈 출력\n",
    "print(\"파이썬\")\n",
    "print(\"짱\")"
   ]
  },
  {
   "cell_type": "code",
   "execution_count": 22,
   "id": "a5cc9731-d24d-4f9b-81c5-82f76e65b60f",
   "metadata": {},
   "outputs": [
    {
     "name": "stdout",
     "output_type": "stream",
     "text": [
      "파이썬 짱\n"
     ]
    }
   ],
   "source": [
    "# end 옵션으로 줄 바꿈 제어\n",
    "print(\"파이썬\", end = \" \")\n",
    "print(\"짱\")"
   ]
  },
  {
   "cell_type": "code",
   "execution_count": 24,
   "id": "f2d49c91-86fc-4ea5-9c2a-088e0a01becd",
   "metadata": {},
   "outputs": [
    {
     "name": "stdin",
     "output_type": "stream",
     "text": [
      "이름 입력:  Hyosik\n"
     ]
    },
    {
     "name": "stdout",
     "output_type": "stream",
     "text": [
      "입력한 이름은 Hyosik\n"
     ]
    }
   ],
   "source": [
    "# 콤마(,)를 이용한 출력\n",
    "name = input(\"이름 입력: \")\n",
    "print(\"입력한 이름은\", name)"
   ]
  },
  {
   "cell_type": "code",
   "execution_count": 25,
   "id": "3c9ee85c-20d8-44f0-9b26-18e5790d97ad",
   "metadata": {},
   "outputs": [
    {
     "name": "stdin",
     "output_type": "stream",
     "text": [
      "이름 입력:  Hyosik\n"
     ]
    },
    {
     "name": "stdout",
     "output_type": "stream",
     "text": [
      "입력한 이름은 Hyosik\n"
     ]
    }
   ],
   "source": [
    "# %s 형식지정자를 이용한 출력\n",
    "name = input(\"이름 입력: \")\n",
    "print(\"입력한 이름은 %s\" % name)"
   ]
  },
  {
   "cell_type": "code",
   "execution_count": 28,
   "id": "d8687c5a-42c0-489d-b3f1-307d3e9f52a2",
   "metadata": {},
   "outputs": [
    {
     "name": "stdin",
     "output_type": "stream",
     "text": [
      "숫자1 입력:  1\n",
      "숫자2 입력:  2\n"
     ]
    },
    {
     "name": "stdout",
     "output_type": "stream",
     "text": [
      "1 + 2 = 3\n"
     ]
    }
   ],
   "source": [
    "# %d 형식지정자를 이용한 출력\n",
    "x = int(input(\"숫자1 입력: \"))\n",
    "y = int(input(\"숫자2 입력: \"))\n",
    "print(\"%d + %d = %d\" % (x, y, x + y))"
   ]
  },
  {
   "cell_type": "code",
   "execution_count": 35,
   "id": "3e389bd3-ab0b-4e68-ad5e-d0288f7c45be",
   "metadata": {},
   "outputs": [
    {
     "name": "stdin",
     "output_type": "stream",
     "text": [
      "숫자1 입력:  5\n",
      "숫자2 입력:  2\n"
     ]
    },
    {
     "name": "stdout",
     "output_type": "stream",
     "text": [
      "5 / 2 = 2.500000\n"
     ]
    }
   ],
   "source": [
    "# %f 형식지정자를 이용한 출력\n",
    "x = int(input(\"숫자1 입력: \"))\n",
    "y = int(input(\"숫자2 입력: \"))\n",
    "print(\"%d / %d = %f\" % (x, y, x / y))"
   ]
  },
  {
   "cell_type": "code",
   "execution_count": 34,
   "id": "b674e7f8-ec4a-47a2-8536-29edc9a75c74",
   "metadata": {},
   "outputs": [
    {
     "name": "stdin",
     "output_type": "stream",
     "text": [
      "숫자1 입력:  3\n",
      "숫자2 입력:  2\n"
     ]
    },
    {
     "name": "stdout",
     "output_type": "stream",
     "text": [
      "3 * 2 = 6\n"
     ]
    }
   ],
   "source": [
    "# format() 함수를 이용한 출력\n",
    "x = int(input(\"숫자1 입력: \"))\n",
    "y = int(input(\"숫자2 입력: \"))\n",
    "print(\"{0} * {1} = {2}\".format(x, y, x * y))"
   ]
  },
  {
   "cell_type": "code",
   "execution_count": 32,
   "id": "339de890-0135-4115-8f60-6c67d3d68f5e",
   "metadata": {},
   "outputs": [
    {
     "name": "stdout",
     "output_type": "stream",
     "text": [
      "반짝 반짝 작은 별\n"
     ]
    }
   ],
   "source": [
    "# 중괄호 순서를 변경하고 자료를 반복하여 출력\n",
    "print(\"{1} {1} 작은 {0}\".format(\"별\", \"반짝\"))"
   ]
  },
  {
   "cell_type": "code",
   "execution_count": 36,
   "id": "9ea31549-f5e3-4f6f-bea1-1ef6d4613a79",
   "metadata": {},
   "outputs": [
    {
     "name": "stdin",
     "output_type": "stream",
     "text": [
      "숫자1 입력:  30\n",
      "숫자2 입력:  20\n"
     ]
    },
    {
     "name": "stdout",
     "output_type": "stream",
     "text": [
      "30 - 20 = 10\n"
     ]
    }
   ],
   "source": [
    "# f-string 포맷팅을 이용한 출력\n",
    "x = int(input(\"숫자1 입력: \"))\n",
    "y = int(input(\"숫자2 입력: \"))\n",
    "print(f\"{x} - {y} = {x - y}\")"
   ]
  },
  {
   "cell_type": "markdown",
   "id": "40723466-314a-4473-ba2b-309d7ad56176",
   "metadata": {},
   "source": [
    "######\n",
    "# 2.5 컬렉션 자료형\n",
    "######"
   ]
  },
  {
   "attachments": {},
   "cell_type": "markdown",
   "id": "a119b531-f4ad-4de2-80e0-c626003ff23a",
   "metadata": {},
   "source": [
    "######\n",
    "## ■ 리스트 : 하나의 리스트 변수를 이용하여 여러 개의 자료를 효율적으로 저장하고 처리함\n",
    "######"
   ]
  },
  {
   "cell_type": "code",
   "execution_count": 37,
   "id": "de687c27-9eb6-49d2-9bbd-59ea555e119b",
   "metadata": {},
   "outputs": [
    {
     "name": "stdin",
     "output_type": "stream",
     "text": [
      "점수1:  20\n",
      "점수2:  30\n",
      "점수3:  10\n",
      "점수4:  50\n"
     ]
    },
    {
     "name": "stdout",
     "output_type": "stream",
     "text": [
      "합계:  110\n"
     ]
    }
   ],
   "source": [
    "# 리스트 변수 사용\n",
    "x = [0, 0, 0, 0]\n",
    "\n",
    "x[0] = int(input(\"점수1: \"))\n",
    "x[1] = int(input(\"점수2: \"))\n",
    "x[2] = int(input(\"점수3: \"))\n",
    "x[3] = int(input(\"점수4: \"))\n",
    "\n",
    "hap = x[0] + x[1] + x[2] + x[3]\n",
    "\n",
    "print(\"합계: \", hap)"
   ]
  },
  {
   "cell_type": "code",
   "execution_count": 39,
   "id": "454fc20a-24bc-4e12-82e5-78913b496bee",
   "metadata": {},
   "outputs": [
    {
     "name": "stdout",
     "output_type": "stream",
     "text": [
      "[15, 25, 35, 45]\n"
     ]
    }
   ],
   "source": [
    "# 리스트 인덱스 구조 및 사용하기\n",
    "\n",
    "x = [15, 25, 35, 45]\n",
    "print(x)"
   ]
  },
  {
   "cell_type": "code",
   "execution_count": 40,
   "id": "b2b50124-d160-4936-917a-b1ef28c5c65a",
   "metadata": {},
   "outputs": [
    {
     "data": {
      "text/plain": [
       "15"
      ]
     },
     "execution_count": 40,
     "metadata": {},
     "output_type": "execute_result"
    }
   ],
   "source": [
    "x[0]"
   ]
  },
  {
   "cell_type": "code",
   "execution_count": 41,
   "id": "33ae9643-4d9d-4580-92e5-6e1ca2013b24",
   "metadata": {},
   "outputs": [
    {
     "data": {
      "text/plain": [
       "40"
      ]
     },
     "execution_count": 41,
     "metadata": {},
     "output_type": "execute_result"
    }
   ],
   "source": [
    "x[0] + x[1]"
   ]
  },
  {
   "cell_type": "code",
   "execution_count": 42,
   "id": "ed220919-ea56-4b56-9b95-e15418e025c6",
   "metadata": {},
   "outputs": [
    {
     "data": {
      "text/plain": [
       "45"
      ]
     },
     "execution_count": 42,
     "metadata": {},
     "output_type": "execute_result"
    }
   ],
   "source": [
    "x[-1]"
   ]
  },
  {
   "cell_type": "code",
   "execution_count": 43,
   "id": "dc0b0a80-4412-479a-ac94-5bcca5fb8480",
   "metadata": {},
   "outputs": [
    {
     "ename": "IndexError",
     "evalue": "list index out of range",
     "output_type": "error",
     "traceback": [
      "\u001b[1;31m---------------------------------------------------------------------------\u001b[0m",
      "\u001b[1;31mIndexError\u001b[0m                                Traceback (most recent call last)",
      "Cell \u001b[1;32mIn[43], line 1\u001b[0m\n\u001b[1;32m----> 1\u001b[0m \u001b[43mx\u001b[49m\u001b[43m[\u001b[49m\u001b[38;5;241;43m4\u001b[39;49m\u001b[43m]\u001b[49m\n",
      "\u001b[1;31mIndexError\u001b[0m: list index out of range"
     ]
    }
   ],
   "source": [
    "x[4]"
   ]
  },
  {
   "cell_type": "code",
   "execution_count": 44,
   "id": "82b9497a-9a07-4c69-ba9f-6b61149949ec",
   "metadata": {},
   "outputs": [
    {
     "data": {
      "text/plain": [
       "[10, 20]"
      ]
     },
     "execution_count": 44,
     "metadata": {},
     "output_type": "execute_result"
    }
   ],
   "source": [
    "# 리스트 슬라이싱 사용하기\n",
    "x = [10, 20, 30, [40, 50]]\n",
    "\n",
    "x[0:2]"
   ]
  },
  {
   "cell_type": "code",
   "execution_count": 45,
   "id": "77f034d9-fc8a-40cf-be12-819ec38e046f",
   "metadata": {},
   "outputs": [
    {
     "data": {
      "text/plain": [
       "[20, 30, [40, 50]]"
      ]
     },
     "execution_count": 45,
     "metadata": {},
     "output_type": "execute_result"
    }
   ],
   "source": [
    "x[1:]"
   ]
  },
  {
   "cell_type": "code",
   "execution_count": 46,
   "id": "3003da18-0cef-45f4-916f-1b6f69406752",
   "metadata": {},
   "outputs": [
    {
     "data": {
      "text/plain": [
       "[10, 20]"
      ]
     },
     "execution_count": 46,
     "metadata": {},
     "output_type": "execute_result"
    }
   ],
   "source": [
    "x[:2]"
   ]
  },
  {
   "cell_type": "code",
   "execution_count": 47,
   "id": "37e05164-09d9-47d4-9fe8-1d62fc6dda52",
   "metadata": {},
   "outputs": [
    {
     "data": {
      "text/plain": [
       "[40, 50]"
      ]
     },
     "execution_count": 47,
     "metadata": {},
     "output_type": "execute_result"
    }
   ],
   "source": [
    "x[-1]"
   ]
  },
  {
   "cell_type": "code",
   "execution_count": 48,
   "id": "0ef468e9-ba92-46fc-bbe8-6778c2429b48",
   "metadata": {},
   "outputs": [
    {
     "data": {
      "text/plain": [
       "[40, 50]"
      ]
     },
     "execution_count": 48,
     "metadata": {},
     "output_type": "execute_result"
    }
   ],
   "source": [
    "x[3]"
   ]
  },
  {
   "cell_type": "code",
   "execution_count": 49,
   "id": "2e92a877-7677-4277-9c4a-24c65231022a",
   "metadata": {},
   "outputs": [
    {
     "data": {
      "text/plain": [
       "40"
      ]
     },
     "execution_count": 49,
     "metadata": {},
     "output_type": "execute_result"
    }
   ],
   "source": [
    "x[3][0] # 이중 리스트 슬라이싱"
   ]
  },
  {
   "cell_type": "code",
   "execution_count": 50,
   "id": "6cf47538-428b-4842-8d55-0baf9edc8f2d",
   "metadata": {},
   "outputs": [
    {
     "data": {
      "text/plain": [
       "50"
      ]
     },
     "execution_count": 50,
     "metadata": {},
     "output_type": "execute_result"
    }
   ],
   "source": [
    "x[3][1] # 이중 리스트 슬라이싱"
   ]
  },
  {
   "cell_type": "code",
   "execution_count": 53,
   "id": "da8d5cf3-9fc8-4332-965f-1bfa7183ca50",
   "metadata": {},
   "outputs": [
    {
     "data": {
      "text/plain": [
       "[40]"
      ]
     },
     "execution_count": 53,
     "metadata": {},
     "output_type": "execute_result"
    }
   ],
   "source": [
    "x[3][:1] # 이중 리스트 슬라이싱"
   ]
  },
  {
   "cell_type": "code",
   "execution_count": 54,
   "id": "74507068-8c4e-451c-be4e-e18620dbb148",
   "metadata": {},
   "outputs": [
    {
     "name": "stdout",
     "output_type": "stream",
     "text": [
      "[10, 20, 30]\n"
     ]
    }
   ],
   "source": [
    "# 리스트 값 변경\n",
    "\n",
    "a = [10, 20, 30]\n",
    "print(a)"
   ]
  },
  {
   "cell_type": "code",
   "execution_count": 55,
   "id": "7be8bb14-4a3e-4d66-af3e-7a5f82f2018e",
   "metadata": {},
   "outputs": [
    {
     "name": "stdout",
     "output_type": "stream",
     "text": [
      "[100, 20, 30]\n"
     ]
    }
   ],
   "source": [
    "a[0] = 100\n",
    "print(a)"
   ]
  },
  {
   "cell_type": "code",
   "execution_count": 56,
   "id": "50f2a191-c2df-4acb-a759-91271305f76f",
   "metadata": {},
   "outputs": [
    {
     "name": "stdout",
     "output_type": "stream",
     "text": [
      "[100, 90, 100]\n"
     ]
    }
   ],
   "source": [
    "a[1:3] = [90, 100]\n",
    "print(a)"
   ]
  },
  {
   "cell_type": "code",
   "execution_count": 58,
   "id": "710378d8-6f5a-4263-803c-34b3777d52b8",
   "metadata": {},
   "outputs": [
    {
     "name": "stdout",
     "output_type": "stream",
     "text": [
      "[100, [90, 100], 100]\n"
     ]
    }
   ],
   "source": [
    "a[1] = [90, 100]\n",
    "print(a)"
   ]
  },
  {
   "attachments": {},
   "cell_type": "markdown",
   "id": "f5589f3b-985f-48d0-a9ad-b80c5a2572bd",
   "metadata": {},
   "source": [
    "######\n",
    "## ■ 튜플 : 한번 저장된 값은 수정할 수 없는 자료형\n",
    "######"
   ]
  },
  {
   "cell_type": "code",
   "execution_count": 60,
   "id": "71e3eb5e-c8f2-424d-b9cc-5f35014f689f",
   "metadata": {},
   "outputs": [
    {
     "name": "stdout",
     "output_type": "stream",
     "text": [
      "()\n"
     ]
    }
   ],
   "source": [
    "# 튜플 초기화\n",
    "x = ()\n",
    "print(x)"
   ]
  },
  {
   "cell_type": "code",
   "execution_count": 61,
   "id": "52eeba7a-3eb5-4090-994e-e80d484b53aa",
   "metadata": {},
   "outputs": [
    {
     "name": "stdout",
     "output_type": "stream",
     "text": [
      "()\n"
     ]
    }
   ],
   "source": [
    "x = tuple()\n",
    "print(x)"
   ]
  },
  {
   "cell_type": "code",
   "execution_count": 63,
   "id": "e6ba84f2-b707-4ba0-bb4f-b5841bdd282d",
   "metadata": {},
   "outputs": [
    {
     "name": "stdout",
     "output_type": "stream",
     "text": [
      "(1, 2, 3)\n"
     ]
    }
   ],
   "source": [
    "x = (1, 2, 3)\n",
    "print(x)"
   ]
  },
  {
   "cell_type": "code",
   "execution_count": 64,
   "id": "7bd987cd-716b-4e89-a458-3496933c2069",
   "metadata": {},
   "outputs": [
    {
     "name": "stdout",
     "output_type": "stream",
     "text": [
      "(1, 2)\n"
     ]
    }
   ],
   "source": [
    "x = 1, 2\n",
    "print(x)"
   ]
  },
  {
   "cell_type": "code",
   "execution_count": 65,
   "id": "75fe8f6c-bab1-4807-957e-07b95c9aca8c",
   "metadata": {},
   "outputs": [
    {
     "name": "stdout",
     "output_type": "stream",
     "text": [
      "(10, 20, (30, 40))\n"
     ]
    }
   ],
   "source": [
    "x = (10, 20, (30, 40))\n",
    "print(x)"
   ]
  },
  {
   "cell_type": "code",
   "execution_count": 62,
   "id": "4fa86cd6-70ea-40fb-b407-e62be47d1a1e",
   "metadata": {},
   "outputs": [
    {
     "name": "stdout",
     "output_type": "stream",
     "text": [
      "(0, 1, 2, 3, 4, 5, 6, 7, 8, 9)\n"
     ]
    }
   ],
   "source": [
    "x = tuple(range(10))\n",
    "print(x)"
   ]
  },
  {
   "cell_type": "code",
   "execution_count": 66,
   "id": "8e34942f-c0c1-4cc4-b703-25e25ef0f504",
   "metadata": {},
   "outputs": [
    {
     "name": "stdout",
     "output_type": "stream",
     "text": [
      "('월', '화', '수', '목', '금', '토', '일')\n"
     ]
    }
   ],
   "source": [
    "x = [\"월\", \"화\", \"수\", \"목\", \"금\", \"토\", \"일\"]\n",
    "x = tuple(x)\n",
    "print(x)"
   ]
  },
  {
   "cell_type": "code",
   "execution_count": 2,
   "id": "9ccf124c-2c0c-4856-83be-1808bd781d5a",
   "metadata": {},
   "outputs": [
    {
     "ename": "TypeError",
     "evalue": "'tuple' object does not support item assignment",
     "output_type": "error",
     "traceback": [
      "\u001b[1;31m---------------------------------------------------------------------------\u001b[0m",
      "\u001b[1;31mTypeError\u001b[0m                                 Traceback (most recent call last)",
      "Cell \u001b[1;32mIn[2], line 3\u001b[0m\n\u001b[0;32m      1\u001b[0m \u001b[38;5;66;03m# 튜플 데이터 변경\u001b[39;00m\n\u001b[0;32m      2\u001b[0m x \u001b[38;5;241m=\u001b[39m (\u001b[38;5;241m10\u001b[39m, \u001b[38;5;241m20\u001b[39m, \u001b[38;5;241m30\u001b[39m)\n\u001b[1;32m----> 3\u001b[0m x[\u001b[38;5;241m0\u001b[39m] \u001b[38;5;241m=\u001b[39m \u001b[38;5;241m100\u001b[39m\n",
      "\u001b[1;31mTypeError\u001b[0m: 'tuple' object does not support item assignment"
     ]
    }
   ],
   "source": [
    "# 튜플 데이터 변경\n",
    "x = (10, 20, 30)\n",
    "x[0] = 100"
   ]
  },
  {
   "cell_type": "code",
   "execution_count": 68,
   "id": "bfb89436-197f-45e4-9a30-700fc6dd3e47",
   "metadata": {},
   "outputs": [
    {
     "data": {
      "text/plain": [
       "10"
      ]
     },
     "execution_count": 68,
     "metadata": {},
     "output_type": "execute_result"
    }
   ],
   "source": [
    "# 튜플 인덱싱과 슬라이싱\n",
    "x = (10, 20, 30, 40)\n",
    "x[0]"
   ]
  },
  {
   "cell_type": "code",
   "execution_count": 69,
   "id": "04b7eed6-794e-4054-b6fd-3b962894b7e0",
   "metadata": {},
   "outputs": [
    {
     "data": {
      "text/plain": [
       "(20, 30, 40)"
      ]
     },
     "execution_count": 69,
     "metadata": {},
     "output_type": "execute_result"
    }
   ],
   "source": [
    "x[1:]"
   ]
  },
  {
   "cell_type": "code",
   "execution_count": 71,
   "id": "6a86bbd0-2f32-47e3-9b4d-ab59f26dd075",
   "metadata": {},
   "outputs": [
    {
     "data": {
      "text/plain": [
       "(10, 20)"
      ]
     },
     "execution_count": 71,
     "metadata": {},
     "output_type": "execute_result"
    }
   ],
   "source": [
    "x[:2]"
   ]
  },
  {
   "cell_type": "code",
   "execution_count": 70,
   "id": "02f7d680-24d7-47a9-97bc-654172dc829d",
   "metadata": {},
   "outputs": [
    {
     "data": {
      "text/plain": [
       "40"
      ]
     },
     "execution_count": 70,
     "metadata": {},
     "output_type": "execute_result"
    }
   ],
   "source": [
    "x[-1]"
   ]
  },
  {
   "attachments": {},
   "cell_type": "markdown",
   "id": "fb24eb60-cfe0-46a1-b9f6-f42c5bd2b247",
   "metadata": {},
   "source": [
    "######\n",
    "## ■ 딕셔너리 : 순서가 없는 컬렉션 자료형으로 각각의 요소는 key:value 형태로 저장\n",
    "######"
   ]
  },
  {
   "cell_type": "code",
   "execution_count": 72,
   "id": "444e3639-ff14-48e0-a6e7-f2130eb38e05",
   "metadata": {},
   "outputs": [
    {
     "data": {
      "text/plain": [
       "3000"
      ]
     },
     "execution_count": 72,
     "metadata": {},
     "output_type": "execute_result"
    }
   ],
   "source": [
    "# 딕셔너리 요소 접근\n",
    "menu = {\"김밥\":3000, \"라면\":5000}\n",
    "menu[\"김밥\"]"
   ]
  },
  {
   "cell_type": "code",
   "execution_count": 73,
   "id": "bf53a3cb-d586-4db2-bf69-93601795f1e4",
   "metadata": {},
   "outputs": [
    {
     "data": {
      "text/plain": [
       "5000"
      ]
     },
     "execution_count": 73,
     "metadata": {},
     "output_type": "execute_result"
    }
   ],
   "source": [
    "menu[\"라면\"]"
   ]
  },
  {
   "cell_type": "code",
   "execution_count": 74,
   "id": "27a8ef16-84ec-4164-96a5-be2619137979",
   "metadata": {},
   "outputs": [
    {
     "data": {
      "text/plain": [
       "5500"
      ]
     },
     "execution_count": 74,
     "metadata": {},
     "output_type": "execute_result"
    }
   ],
   "source": [
    "menu[\"라면\"] = 5500\n",
    "menu[\"라면\"]"
   ]
  },
  {
   "cell_type": "code",
   "execution_count": 75,
   "id": "2fda40c5-1f97-4e9b-8ed4-1af986f9a4ef",
   "metadata": {},
   "outputs": [
    {
     "name": "stdout",
     "output_type": "stream",
     "text": [
      "{'김밥': 3000, '라면': 5500, '어묵': 1500}\n"
     ]
    }
   ],
   "source": [
    "menu[\"어묵\"] = 1500\n",
    "print(menu)"
   ]
  },
  {
   "cell_type": "code",
   "execution_count": 76,
   "id": "a3d418bf-6c03-4078-ba98-037b74af3019",
   "metadata": {},
   "outputs": [
    {
     "ename": "KeyError",
     "evalue": "'순대'",
     "output_type": "error",
     "traceback": [
      "\u001b[1;31m---------------------------------------------------------------------------\u001b[0m",
      "\u001b[1;31mKeyError\u001b[0m                                  Traceback (most recent call last)",
      "Cell \u001b[1;32mIn[76], line 1\u001b[0m\n\u001b[1;32m----> 1\u001b[0m \u001b[43mmenu\u001b[49m\u001b[43m[\u001b[49m\u001b[38;5;124;43m\"\u001b[39;49m\u001b[38;5;124;43m순대\u001b[39;49m\u001b[38;5;124;43m\"\u001b[39;49m\u001b[43m]\u001b[49m\n",
      "\u001b[1;31mKeyError\u001b[0m: '순대'"
     ]
    }
   ],
   "source": [
    "menu[\"순대\"]"
   ]
  },
  {
   "attachments": {},
   "cell_type": "markdown",
   "id": "b3adb1fb-daac-415b-b2ce-e77b7814dc2f",
   "metadata": {},
   "source": [
    "######\n",
    "## ■ 세트 : 집합에 관련된 것을 쉽게 처리하기 위해 만든 자료형, 중복 허용 안하고 순서 없음\n",
    "######"
   ]
  },
  {
   "cell_type": "code",
   "execution_count": 77,
   "id": "f034330d-bac8-4ca8-84f8-bcf33dc2b704",
   "metadata": {},
   "outputs": [
    {
     "name": "stdout",
     "output_type": "stream",
     "text": [
      "{10, 20, 30}\n"
     ]
    }
   ],
   "source": [
    "# 세트 초기화\n",
    "x = {10, 20, 30}\n",
    "print(x)"
   ]
  },
  {
   "cell_type": "code",
   "execution_count": 79,
   "id": "67a8e488-ca38-4e2f-b19e-fbd4b1b2ac26",
   "metadata": {},
   "outputs": [
    {
     "name": "stdout",
     "output_type": "stream",
     "text": [
      "{10, 20, 30}\n"
     ]
    }
   ],
   "source": [
    "y = set([10, 20, 30])\n",
    "print(y)"
   ]
  },
  {
   "cell_type": "code",
   "execution_count": 80,
   "id": "685b0774-011d-4b55-91cf-fb9bc8d54d46",
   "metadata": {},
   "outputs": [
    {
     "name": "stdout",
     "output_type": "stream",
     "text": [
      "{10, 20, 30}\n"
     ]
    }
   ],
   "source": [
    "x = {10, 20, 30, 20}\n",
    "print(x)"
   ]
  },
  {
   "cell_type": "code",
   "execution_count": 81,
   "id": "4d9d1bd9-7e65-4b3f-82d2-db5296b0b238",
   "metadata": {},
   "outputs": [
    {
     "data": {
      "text/plain": [
       "{20}"
      ]
     },
     "execution_count": 81,
     "metadata": {},
     "output_type": "execute_result"
    }
   ],
   "source": [
    "# 세트 합집합, 교집합 차집합\n",
    "x = {10, 20, 30}\n",
    "y = {20, 40}\n",
    "x & y # 교집합"
   ]
  },
  {
   "cell_type": "code",
   "execution_count": 82,
   "id": "a6e3a450-2322-4722-b7e0-c78d4fb9fc27",
   "metadata": {},
   "outputs": [
    {
     "data": {
      "text/plain": [
       "{20}"
      ]
     },
     "execution_count": 82,
     "metadata": {},
     "output_type": "execute_result"
    }
   ],
   "source": [
    "x.intersection(y) # 교집합"
   ]
  },
  {
   "cell_type": "code",
   "execution_count": 83,
   "id": "7e1ebbbd-a32f-414e-ae4b-17fd7fb74c87",
   "metadata": {},
   "outputs": [
    {
     "data": {
      "text/plain": [
       "{10, 20, 30, 40}"
      ]
     },
     "execution_count": 83,
     "metadata": {},
     "output_type": "execute_result"
    }
   ],
   "source": [
    "x | y # 합집합"
   ]
  },
  {
   "cell_type": "code",
   "execution_count": 84,
   "id": "c52dc35b-2a62-4f28-b5bc-490531c3542c",
   "metadata": {},
   "outputs": [
    {
     "data": {
      "text/plain": [
       "{10, 20, 30, 40}"
      ]
     },
     "execution_count": 84,
     "metadata": {},
     "output_type": "execute_result"
    }
   ],
   "source": [
    "x.union(y) # 합집합"
   ]
  },
  {
   "cell_type": "code",
   "execution_count": 85,
   "id": "0bff8bd9-ba62-4c37-bf57-7dc4a5981a1c",
   "metadata": {},
   "outputs": [
    {
     "data": {
      "text/plain": [
       "{10, 30}"
      ]
     },
     "execution_count": 85,
     "metadata": {},
     "output_type": "execute_result"
    }
   ],
   "source": [
    "x - y # 차집합"
   ]
  },
  {
   "cell_type": "code",
   "execution_count": 86,
   "id": "ca41df26-c30c-422b-ab48-c366b7cf9bc9",
   "metadata": {},
   "outputs": [
    {
     "data": {
      "text/plain": [
       "{10, 30}"
      ]
     },
     "execution_count": 86,
     "metadata": {},
     "output_type": "execute_result"
    }
   ],
   "source": [
    "x.difference(y) # 차집합"
   ]
  },
  {
   "cell_type": "markdown",
   "id": "abc67182-21a6-4dc0-9345-063c403ea624",
   "metadata": {},
   "source": [
    "######\n",
    "# 2.6 리스트 내포\n",
    "######"
   ]
  },
  {
   "cell_type": "markdown",
   "id": "aeb2836d-6829-46c1-8715-f7edf7fcaabf",
   "metadata": {},
   "source": [
    "######\n",
    "## ■ 기본적인 리스트 내포 형식\n",
    "######"
   ]
  },
  {
   "cell_type": "code",
   "execution_count": 87,
   "id": "4ed859ec-5604-44a4-af99-ae7b0a7993cb",
   "metadata": {},
   "outputs": [
    {
     "data": {
      "text/plain": [
       "[-20, -10, 0, 10, 20]"
      ]
     },
     "execution_count": 87,
     "metadata": {},
     "output_type": "execute_result"
    }
   ],
   "source": [
    "num = [-20, -10, 0, 10, 20]\n",
    "[x for x in num]"
   ]
  },
  {
   "cell_type": "code",
   "execution_count": 88,
   "id": "0f89f437-4028-45e4-92eb-2a9d4e5e6b33",
   "metadata": {},
   "outputs": [
    {
     "data": {
      "text/plain": [
       "[-4.0, -2.0, 0.0, 2.0, 4.0]"
      ]
     },
     "execution_count": 88,
     "metadata": {},
     "output_type": "execute_result"
    }
   ],
   "source": [
    "num = [-20, -10, 0, 10, 20]\n",
    "[x / 5 for x in num]"
   ]
  },
  {
   "cell_type": "code",
   "execution_count": 89,
   "id": "70b6ee46-1eb9-4f66-a2b3-a4d67e26b2ff",
   "metadata": {},
   "outputs": [
    {
     "data": {
      "text/plain": [
       "[-15, -5, 5, 15, 25]"
      ]
     },
     "execution_count": 89,
     "metadata": {},
     "output_type": "execute_result"
    }
   ],
   "source": [
    "num = [-20, -10, 0, 10, 20]\n",
    "[x + 5 for x in num]"
   ]
  },
  {
   "cell_type": "code",
   "execution_count": 90,
   "id": "ee13516e-ac89-4e18-a52f-afd9b9926b59",
   "metadata": {},
   "outputs": [
    {
     "data": {
      "text/plain": [
       "[400, 100, 0, 100, 400]"
      ]
     },
     "execution_count": 90,
     "metadata": {},
     "output_type": "execute_result"
    }
   ],
   "source": [
    "num = [-20, -10, 0, 10, 20]\n",
    "[x ** 2 for x in num]"
   ]
  },
  {
   "cell_type": "markdown",
   "id": "d802e251-8186-465d-8970-db9df344aa55",
   "metadata": {},
   "source": [
    "######\n",
    "## ■ 조건이 있는 리스트 내포 형식\n",
    "######"
   ]
  },
  {
   "cell_type": "code",
   "execution_count": 91,
   "id": "93158c57-9181-47a6-bfda-ef84e24e4e4b",
   "metadata": {},
   "outputs": [
    {
     "data": {
      "text/plain": [
       "[0.1, 0.05]"
      ]
     },
     "execution_count": 91,
     "metadata": {},
     "output_type": "execute_result"
    }
   ],
   "source": [
    "num = [-20, -10, 0, 10, 20]\n",
    "[1 / x for x in num if x > 0]"
   ]
  },
  {
   "cell_type": "code",
   "execution_count": 92,
   "id": "daabf863-75b4-4533-900b-06d194d672cf",
   "metadata": {},
   "outputs": [
    {
     "data": {
      "text/plain": [
       "[-0.05, -0.1, 0.1, 0.05]"
      ]
     },
     "execution_count": 92,
     "metadata": {},
     "output_type": "execute_result"
    }
   ],
   "source": [
    "num = [-20, -10, 0, 10, 20]\n",
    "[1 / x for x in num if x != 0]"
   ]
  },
  {
   "cell_type": "markdown",
   "id": "6595ddfe-4e19-4620-81f0-16bb4cdf689d",
   "metadata": {},
   "source": [
    "######\n",
    "# 2.9 함수\n",
    "######"
   ]
  },
  {
   "cell_type": "markdown",
   "id": "a2dfba12-cbef-4fa0-a820-a28607c6a962",
   "metadata": {},
   "source": [
    "######\n",
    "## ■ 주요 내장 함수\n",
    "######"
   ]
  },
  {
   "cell_type": "code",
   "execution_count": 93,
   "id": "8e72f682-4257-4299-bac4-c45e2b1bcde2",
   "metadata": {},
   "outputs": [
    {
     "name": "stdout",
     "output_type": "stream",
     "text": [
      "0 수박\n",
      "1 참외\n",
      "2 자두\n"
     ]
    }
   ],
   "source": [
    "# enumerate() 함수 : 컬렉션의 자료형을 입력받아 인덱스 값을 포함하는 enumerate 객체로 반환하는 함수\n",
    "\n",
    "for x, name in enumerate([\"수박\", \"참외\", \"자두\"]):\n",
    "    print(x, name)"
   ]
  },
  {
   "cell_type": "code",
   "execution_count": 94,
   "id": "4f1231c1-8c20-42eb-b781-8caef52543fc",
   "metadata": {},
   "outputs": [
    {
     "name": "stdout",
     "output_type": "stream",
     "text": [
      "0 수박\n",
      "1 자두\n",
      "2 참외\n"
     ]
    }
   ],
   "source": [
    "for x, name in enumerate({\"수박\", \"참외\", \"자두\"}):\n",
    "    print(x, name)"
   ]
  },
  {
   "cell_type": "code",
   "execution_count": 97,
   "id": "55efda8a-6a89-4216-9c6f-9e4344de7a52",
   "metadata": {},
   "outputs": [
    {
     "name": "stdout",
     "output_type": "stream",
     "text": [
      "(1, 'A')\n",
      "(2, 'B')\n",
      "(3, 'C')\n"
     ]
    }
   ],
   "source": [
    "# zip() 함수 : 동일한 개수로 이루어진 자료형을 묶어 주는 함수\n",
    "\n",
    "num = [1, 2, 3]\n",
    "char = ['A', 'B', 'C']\n",
    "\n",
    "for item in zip(num, char):\n",
    "    print(item)"
   ]
  },
  {
   "cell_type": "code",
   "execution_count": 101,
   "id": "731a1160-e7fa-4162-9466-4b4e1ce6c827",
   "metadata": {},
   "outputs": [
    {
     "data": {
      "text/plain": [
       "{1: 'A', 2: 'B', 3: 'C'}"
      ]
     },
     "execution_count": 101,
     "metadata": {},
     "output_type": "execute_result"
    }
   ],
   "source": [
    "num = [1, 2, 3]\n",
    "char = ['A', 'B', 'C']\n",
    "\n",
    "dict(zip(num, char))"
   ]
  },
  {
   "cell_type": "code",
   "execution_count": 102,
   "id": "dc25aabd-19a3-4e17-92f9-5dbc992c7a0a",
   "metadata": {},
   "outputs": [
    {
     "name": "stdout",
     "output_type": "stream",
     "text": [
      "0.6002279016419926\n",
      "0.17705362149957204\n",
      "0.7813167959137036\n",
      "0.5548666061189621\n",
      "0.9344212910714021\n",
      "0.9061261178292552\n",
      "0.34599945415159883\n",
      "0.678702455190043\n",
      "0.6517800037689971\n",
      "0.370874426801879\n"
     ]
    }
   ],
   "source": [
    "# 랜덤 모듈을 이용하여 난수를 생성하는 예\n",
    "import random\n",
    "\n",
    "for i in range(10):\n",
    "    x = random.random()\n",
    "    print(x)"
   ]
  },
  {
   "cell_type": "code",
   "execution_count": 106,
   "id": "0d93842c-eb99-42fc-9cca-4058665b63ed",
   "metadata": {},
   "outputs": [
    {
     "data": {
      "text/plain": [
       "5"
      ]
     },
     "execution_count": 106,
     "metadata": {},
     "output_type": "execute_result"
    }
   ],
   "source": [
    "# randint() 사용 예\n",
    "import random\n",
    "random.randint(5, 10)"
   ]
  },
  {
   "cell_type": "code",
   "execution_count": 105,
   "id": "6ed95471-1662-4179-8b85-79d954ac0b29",
   "metadata": {},
   "outputs": [
    {
     "data": {
      "text/plain": [
       "7"
      ]
     },
     "execution_count": 105,
     "metadata": {},
     "output_type": "execute_result"
    }
   ],
   "source": [
    "random.randint(5, 10)"
   ]
  },
  {
   "cell_type": "code",
   "execution_count": 107,
   "id": "6862e69e-7e01-4f38-a6f2-aefaff2b7d9d",
   "metadata": {},
   "outputs": [
    {
     "data": {
      "text/plain": [
       "2"
      ]
     },
     "execution_count": 107,
     "metadata": {},
     "output_type": "execute_result"
    }
   ],
   "source": [
    "# choice() 사용 예\n",
    "\n",
    "import random\n",
    "num = [1, 2, 3]\n",
    "random.choice(num)"
   ]
  },
  {
   "cell_type": "code",
   "execution_count": 108,
   "id": "4936e566-83f9-4293-afaa-e09e5531a167",
   "metadata": {},
   "outputs": [
    {
     "data": {
      "text/plain": [
       "1"
      ]
     },
     "execution_count": 108,
     "metadata": {},
     "output_type": "execute_result"
    }
   ],
   "source": [
    "random.choice(num)"
   ]
  },
  {
   "cell_type": "markdown",
   "id": "550f6ecc-6d25-40ad-a58c-e585a76d0ab0",
   "metadata": {},
   "source": [
    "######\n",
    "## ■ 사용자 정의 함수\n",
    "######"
   ]
  },
  {
   "cell_type": "code",
   "execution_count": 110,
   "id": "9a9e6065-7be9-4649-8345-e450c166f687",
   "metadata": {},
   "outputs": [
    {
     "name": "stdin",
     "output_type": "stream",
     "text": [
      "정수1:  10\n",
      "정수2:  20\n"
     ]
    },
    {
     "name": "stdout",
     "output_type": "stream",
     "text": [
      "큰 수: 20\n"
     ]
    }
   ],
   "source": [
    "def max1(num1, num2):\n",
    "    if num1 > num2:\n",
    "        return num1\n",
    "    else:\n",
    "        return num2\n",
    "\n",
    "x = int(input(\"정수1: \"))\n",
    "y = int(input(\"정수2: \"))\n",
    "print(\"큰 수:\", max1(x, y))"
   ]
  },
  {
   "cell_type": "markdown",
   "id": "5b0a47fb-954a-4c25-9f93-65e5cffe0307",
   "metadata": {},
   "source": [
    "######\n",
    "## ■ 람다 함수 : 이름 없는 익명 함수\n",
    "######"
   ]
  },
  {
   "cell_type": "code",
   "execution_count": 111,
   "id": "dabc807b-1269-4670-a06d-7734f0c04f5a",
   "metadata": {},
   "outputs": [
    {
     "data": {
      "text/plain": [
       "25"
      ]
     },
     "execution_count": 111,
     "metadata": {},
     "output_type": "execute_result"
    }
   ],
   "source": [
    "# 사용자 정의 함수로 표현\n",
    "def plus_five(x):\n",
    "    return x + 5\n",
    "\n",
    "plus_five(20)"
   ]
  },
  {
   "cell_type": "code",
   "execution_count": 112,
   "id": "d9dea1d6-d235-4a7c-92be-e509a3018908",
   "metadata": {},
   "outputs": [
    {
     "data": {
      "text/plain": [
       "<function __main__.<lambda>(x)>"
      ]
     },
     "execution_count": 112,
     "metadata": {},
     "output_type": "execute_result"
    }
   ],
   "source": [
    "# 람다 함수 사용 예1\n",
    "lambda x: x + 5"
   ]
  },
  {
   "cell_type": "code",
   "execution_count": 113,
   "id": "5bccb2cf-040e-45be-ac69-ea2c3f6ef67d",
   "metadata": {},
   "outputs": [
    {
     "data": {
      "text/plain": [
       "25"
      ]
     },
     "execution_count": 113,
     "metadata": {},
     "output_type": "execute_result"
    }
   ],
   "source": [
    "plus_five = lambda x: x + 5\n",
    "plus_five(20)"
   ]
  },
  {
   "cell_type": "code",
   "execution_count": 115,
   "id": "821d6714-5074-477e-ba7d-698019f27004",
   "metadata": {},
   "outputs": [
    {
     "data": {
      "text/plain": [
       "[20, 30, 40]"
      ]
     },
     "execution_count": 115,
     "metadata": {},
     "output_type": "execute_result"
    }
   ],
   "source": [
    "# map() 함수 사용 예\n",
    "def plus_five(x):\n",
    "    return x + 5\n",
    "\n",
    "list(map(plus_five, [15, 25, 35]))"
   ]
  },
  {
   "cell_type": "code",
   "execution_count": 116,
   "id": "fe6803ea-8661-44d5-9032-2adfad91b29c",
   "metadata": {},
   "outputs": [
    {
     "data": {
      "text/plain": [
       "[20, 30, 40]"
      ]
     },
     "execution_count": 116,
     "metadata": {},
     "output_type": "execute_result"
    }
   ],
   "source": [
    "list(map(lambda x: x + 5, [15, 25, 35]))"
   ]
  },
  {
   "cell_type": "code",
   "execution_count": null,
   "id": "1872a65b-8d66-45e4-92d5-1aff727a6200",
   "metadata": {},
   "outputs": [],
   "source": []
  }
 ],
 "metadata": {
  "kernelspec": {
   "display_name": "Anaconda (base)",
   "language": "python",
   "name": "base"
  },
  "language_info": {
   "codemirror_mode": {
    "name": "ipython",
    "version": 3
   },
   "file_extension": ".py",
   "mimetype": "text/x-python",
   "name": "python",
   "nbconvert_exporter": "python",
   "pygments_lexer": "ipython3",
   "version": "3.12.8"
  }
 },
 "nbformat": 4,
 "nbformat_minor": 5
}
